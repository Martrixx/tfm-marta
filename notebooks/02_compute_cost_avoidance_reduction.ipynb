{
 "cells": [
  {
   "cell_type": "markdown",
   "id": "ece2341b",
   "metadata": {},
   "source": [
    "# 02 — Compute Cost Avoidance & Cost Reduction (curated → facts)\n",
    "\n",
    "Este cuaderno calcula **Cost Avoidance** (fase *Before_RtB*, Construction)\n",
    "y **Cost Reduction** (fase *After_RtB*, Construction; y AnyButConstruction por PRQ),\n",
    "replicando las reglas del cuaderno funcional y dejando resultados en tablas *fact*.\n",
    "\n",
    "**Entradas esperadas:**\n",
    "- `cur.bid_construction_curated`\n",
    "- `cur.bid_anybutconstruction_curated`\n",
    "\n",
    "**Salidas:**\n",
    "- `fact.cost_avoidance_construction_project`\n",
    "- `fact.cost_reduction_construction_project`\n",
    "- `fact.cost_reduction_anybut_prq`\n",
    "- `mart.kpi_purchasing_totals` (agregados globales para Power BI)"
   ]
  },
  {
   "cell_type": "code",
   "execution_count": null,
   "id": "a84e6adb",
   "metadata": {},
   "outputs": [],
   "source": [
    "\n",
    "# Parameters \n",
    "CATALOG = \"\"          \n",
    "DB_CUR = \"cur\"\n",
    "DB_FACT = \"fact\"\n",
    "DB_MART = \"mart\"\n",
    "\n",
    "IN_CONSTRUCTION = f\"{DB_CUR}.bid_construction_curated\"\n",
    "IN_ANYBUT = f\"{DB_CUR}.bid_anybutconstruction_curated\"\n",
    "\n",
    "OUT_CAO = f\"{DB_FACT}.cost_avoidance_construction_project\"\n",
    "OUT_CRED_CONS = f\"{DB_FACT}.cost_reduction_construction_project\"\n",
    "OUT_CRED_ANY = f\"{DB_FACT}.cost_reduction_anybut_prq\"\n",
    "OUT_KPI_TOTALS = f\"{DB_MART}.kpi_purchasing_totals\"\n",
    "\n",
    "def qual(tbl):\n",
    "    return f\"{CATALOG}.{tbl}\" if CATALOG else tbl\n"
   ]
  },
  {
   "cell_type": "markdown",
   "id": "125ee98c",
   "metadata": {},
   "source": [
    "## 1) Cargar entradas curadas"
   ]
  },
  {
   "cell_type": "code",
   "execution_count": null,
   "id": "a73ea0ca",
   "metadata": {},
   "outputs": [],
   "source": [
    "\n",
    "from pyspark.sql import functions as F\n",
    "\n",
    "df_cons = spark.table(qual(IN_CONSTRUCTION))\n",
    "df_any = spark.table(qual(IN_ANYBUT))\n",
    "\n",
    "needed_cons = [\"Project ID\",\"Project phase\",\"Price_USD\",\"Purchase Order\",\"RtB Budget\"]\n",
    "needed_any = [\"PRQ Code\",\"Price_USD\",\"PO (Y/N)\",\"Round Number\",\"Winner\"]\n",
    "\n",
    "miss_c = [c for c in needed_cons if c not in df_cons.columns]\n",
    "miss_a = [c for c in needed_any if c not in df_any.columns]\n",
    "if miss_c or miss_a:\n",
    "    raise ValueError(f\"Faltan columnas en curated: construction={miss_c}, anybut={miss_a}\")\n"
   ]
  },
  {
   "cell_type": "markdown",
   "id": "cce9019e",
   "metadata": {},
   "source": [
    "## 2) Cost Avoidance — Construction · *Before_RtB*"
   ]
  },
  {
   "cell_type": "code",
   "execution_count": null,
   "id": "a5f3f9a4",
   "metadata": {},
   "outputs": [],
   "source": [
    "\n",
    "df_before = df_cons.where(F.col(\"Project phase\")==\"Before_RtB\").select(\"Project ID\",\"Price_USD\")\n",
    "\n",
    "# median y min por proyecto\n",
    "med = (df_before\n",
    "       .groupBy(\"Project ID\")\n",
    "       .agg(F.expr(\"percentile_approx(Price_USD, 0.5)\").alias(\"median\"),\n",
    "            F.min(\"Price_USD\").alias(\"min\")))\n",
    "\n",
    "cao = (med\n",
    "       .withColumn(\"Cost Avoidance\", F.col(\"median\") - F.col(\"min\"))\n",
    "       .withColumn(\"Cost Avoidance (%)\", F.when(F.col(\"median\")>0,\n",
    "                                                (F.col(\"Cost Avoidance\")/F.col(\"median\"))*100).otherwise(None))\n",
    "      )\n",
    "\n",
    "cao.createOrReplaceTempView(\"vw_cao\")\n",
    "spark.sql(\"CREATE DATABASE IF NOT EXISTS fact\")\n",
    "spark.sql(f\"DROP TABLE IF EXISTS {OUT_CAO}\")\n",
    "spark.sql(f\"CREATE TABLE {OUT_CAO} AS SELECT * FROM vw_cao\")\n",
    "\n",
    "total_cao_pct = (cao.agg((F.sum(\"Cost Avoidance\")/F.sum(\"median\")*100).alias(\"pct\")).collect()[0][\"pct\"])\n",
    "print(f\"Total Cost Avoidance (%): {round(total_cao_pct,2) if total_cao_pct is not None else None}\")\n"
   ]
  },
  {
   "cell_type": "markdown",
   "id": "3e77917c",
   "metadata": {},
   "source": [
    "## 3) Cost Reduction — Construction · *After_RtB* con PO"
   ]
  },
  {
   "cell_type": "code",
   "execution_count": null,
   "id": "c74d4ceb",
   "metadata": {},
   "outputs": [],
   "source": [
    "\n",
    "df_after = (df_cons\n",
    "            .where((F.col(\"Project phase\")==\"After_RtB\") & F.col(\"Purchase Order\").isNotNull())\n",
    "            .select(\"Project ID\",\"Price_USD\",\"RtB Budget\"))\n",
    "\n",
    "# Si hay múltiples precios por proyecto tras RtB, tomamos el precio contratado (asumimos Purchase Order != null)\n",
    "# Si existieran varios, nos quedamos con el mínimo Price_USD por prudencia \n",
    "cr_cons = (df_after\n",
    "           .groupBy(\"Project ID\")\n",
    "           .agg(F.first(\"RtB Budget\", ignorenulls=True).alias(\"RtB Budget\"),\n",
    "                F.min(\"Price_USD\").alias(\"PO Price\")))\n",
    "\n",
    "cr_cons = (cr_cons\n",
    "           .withColumn(\"Cost Reduction\", F.col(\"RtB Budget\") - F.col(\"PO Price\"))\n",
    "           .withColumn(\"Cost Reduction (%)\", F.when(F.col(\"RtB Budget\")>0,\n",
    "                                                   (F.col(\"Cost Reduction\")/F.col(\"RtB Budget\"))*100).otherwise(None)))\n",
    "\n",
    "cr_cons.createOrReplaceTempView(\"vw_cr_cons\")\n",
    "spark.sql(f\"DROP TABLE IF EXISTS {OUT_CRED_CONS}\")\n",
    "spark.sql(f\"CREATE TABLE {OUT_CRED_CONS} AS SELECT * FROM vw_cr_cons\")\n",
    "\n",
    "total_cr_cons_pct = (cr_cons.agg((F.sum(\"Cost Reduction\")/F.sum(\"RtB Budget\")*100).alias(\"pct\")).collect()[0][\"pct\"])\n",
    "print(f\"Total Cost Reduction Construction (%): {round(total_cr_cons_pct,2) if total_cr_cons_pct is not None else None}\")\n"
   ]
  },
  {
   "cell_type": "markdown",
   "id": "8c50713b",
   "metadata": {},
   "source": [
    "## 4) Cost Reduction — AnyButConstruction · por PRQ (1ª ronda vs PO)"
   ]
  },
  {
   "cell_type": "code",
   "execution_count": null,
   "id": "cf190f44",
   "metadata": {},
   "outputs": [],
   "source": [
    "\n",
    "df_any_round1 = (df_any\n",
    "                 .where(F.col(\"Round Number\")==1)\n",
    "                 .groupBy(\"PRQ Code\")\n",
    "                 .agg(F.min(\"Price_USD\").alias(\"Lowest Price 1round\")))\n",
    "\n",
    "df_any_po = (df_any\n",
    "             .where(F.col(\"PO (Y/N)\")==\"Yes\")\n",
    "             .select(\"PRQ Code\",\"Price_USD\")\n",
    "             .groupBy(\"PRQ Code\")\n",
    "             .agg(F.min(\"Price_USD\").alias(\"PO Price\")))\n",
    "\n",
    "cr_any = (df_any_round1.join(df_any_po, on=\"PRQ Code\", how=\"left\")\n",
    "          .withColumn(\"Cost Reduction\", F.col(\"Lowest Price 1round\") - F.col(\"PO Price\"))\n",
    "          .withColumn(\"Cost Reduction (%)\", F.when(F.col(\"Lowest Price 1round\")>0,\n",
    "                                                  (F.col(\"Cost Reduction\")/F.col(\"Lowest Price 1round\"))*100).otherwise(None)))\n",
    "\n",
    "cr_any.createOrReplaceTempView(\"vw_cr_any\")\n",
    "spark.sql(\"CREATE DATABASE IF NOT EXISTS fact\")\n",
    "spark.sql(f\"DROP TABLE IF EXISTS {OUT_CRED_ANY}\")\n",
    "spark.sql(f\"CREATE TABLE {OUT_CRED_ANY} AS SELECT * FROM vw_cr_any\")\n",
    "\n",
    "total_cr_any_pct = (cr_any.agg((F.sum(\"Cost Reduction\")/F.sum(\"PO Price\")*100).alias(\"pct\")).collect()[0][\"pct\"])\n",
    "print(f\"Total Cost Reduction AnyBut (%): {round(total_cr_any_pct,2) if total_cr_any_pct is not None else None}\")\n"
   ]
  },
  {
   "cell_type": "markdown",
   "id": "cbf8d776",
   "metadata": {},
   "source": [
    "## 5) Agregados para Power BI (mart.kpi_purchasing_totals)"
   ]
  },
  {
   "cell_type": "code",
   "execution_count": null,
   "id": "06f29481",
   "metadata": {},
   "outputs": [],
   "source": [
    "\n",
    "from pyspark.sql import functions as F\n",
    "\n",
    "totals = (cao.agg(F.sum(\"Cost Avoidance\").alias(\"sum_cao\"),\n",
    "                  F.sum(\"median\").alias(\"sum_median\"))\n",
    "          .crossJoin(cr_cons.agg(F.sum(\"Cost Reduction\").alias(\"sum_cr_cons\"),\n",
    "                                 F.sum(\"RtB Budget\").alias(\"sum_budget\")))\n",
    "          .crossJoin(cr_any.agg(F.sum(\"Cost Reduction\").alias(\"sum_cr_any\"),\n",
    "                                F.sum(\"PO Price\").alias(\"sum_po\")))\n",
    "         )\n",
    "\n",
    "totals = (totals\n",
    "          .withColumn(\"Total CAO (%)\", F.when(F.col(\"sum_median\")>0, F.col(\"sum_cao\")/F.col(\"sum_median\")*100))\n",
    "          .withColumn(\"Total CR Construction (%)\", F.when(F.col(\"sum_budget\")>0, F.col(\"sum_cr_cons\")/F.col(\"sum_budget\")*100))\n",
    "          .withColumn(\"Total CR AnyBut (%)\", F.when(F.col(\"sum_po\")>0, F.col(\"sum_cr_any\")/F.col(\"sum_po\")*100))\n",
    "         )\n",
    "\n",
    "totals.createOrReplaceTempView(\"vw_kpi_totals\")\n",
    "\n",
    "spark.sql(\"CREATE DATABASE IF NOT EXISTS mart\")\n",
    "spark.sql(f\"DROP TABLE IF EXISTS {OUT_KPI_TOTALS}\")\n",
    "spark.sql(f\"CREATE TABLE {OUT_KPI_TOTALS} AS SELECT * FROM vw_kpi_totals\")\n",
    "\n",
    "print(\"Facts & KPIs written:\",\n",
    "      OUT_CAO, OUT_CRED_CONS, OUT_CRED_ANY, OUT_KPI_TOTALS)\n"
   ]
  }
 ],
 "metadata": {
  "language_info": {
   "name": "python"
  }
 },
 "nbformat": 4,
 "nbformat_minor": 5
}
