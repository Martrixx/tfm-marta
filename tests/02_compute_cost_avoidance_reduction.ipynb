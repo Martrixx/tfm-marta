{
 "cells": [
  {
   "cell_type": "code",
   "execution_count": null,
   "id": "377d2924",
   "metadata": {},
   "outputs": [],
   "source": [
    "from pyspark.sql import SparkSession, functions as F\n",
    "\n",
    "def test_cost_avoidance_median_min(spark: SparkSession):\n",
    "    df = spark.createDataFrame([\n",
    "        (\"P1,Before\", \"P1\", 100.0),\n",
    "        (\"P1,Before\", \"P1\", 80.0),\n",
    "        (\"P1,Before\", \"P1\", 90.0),\n",
    "    ], \"row string, ProjectID string, Price_USD double\")\n",
    "    med = df.groupBy(\"ProjectID\").agg(F.expr(\"percentile_approx(Price_USD,0.5)\").alias(\"median\"),\n",
    "                                      F.min(\"Price_USD\").alias(\"min\"))\n",
    "    out = med.withColumn(\"CAO\", F.col(\"median\")-F.col(\"min\")) \\\n",
    "             .withColumn(\"CAO_pct\", (F.col(\"CAO\")/F.col(\"median\"))*100)\n",
    "    r = out.collect()[0]\n",
    "    assert r[\"median\"] == 90.0 and r[\"min\"] == 80.0 and round(r[\"CAO\"],2) == 10.0 and round(r[\"CAO_pct\"],2) == 11.11\n",
    "\n",
    "def test_cost_reduction_budget_vs_po(spark: SparkSession):\n",
    "    df = spark.createDataFrame([(\"P1\", 1000.0, 850.0)], \"ProjectID string, RtB double, PO double\")\n",
    "    out = df.select(\"ProjectID\",\n",
    "                    (F.col(\"RtB\")-F.col(\"PO\")).alias(\"CR\"),\n",
    "                    ( (F.col(\"RtB\")-F.col(\"PO\"))/F.col(\"RtB\")*100 ).alias(\"CR_pct\"))\n",
    "    r = out.first()\n",
    "    assert r[\"CR\"] == 150.0 and round(r[\"CR_pct\"],2) == 15.00\n",
    "\n",
    "def test_anybut_first_round_vs_po(spark: SparkSession):\n",
    "    r1 = spark.createDataFrame([(\"X\", 100.0), (\"X\", 90.0)], \"PRQ string, Price_USD double\") \n",
    "    po = spark.createDataFrame([(\"X\", 80.0)], \"PRQ string, Price_USD double\")\n",
    "    from pyspark.sql.functions import min as MIN\n",
    "    r1_min = r1.groupBy(\"PRQ\").agg(MIN(\"Price_USD\").alias(\"r1_min\"))\n",
    "    po_min = po.groupBy(\"PRQ\").agg(MIN(\"Price_USD\").alias(\"po_min\"))\n",
    "    out = r1_min.join(po_min, \"PRQ\").withColumn(\"CR\", F.col(\"r1_min\")-F.col(\"po_min\")) \\\n",
    "                .withColumn(\"CR_pct\", (F.col(\"CR\")/F.col(\"r1_min\"))*100)\n",
    "    rr = out.first()\n",
    "    assert rr[\"CR\"] == 10.0 and round(rr[\"CR_pct\"],2) == 11.11"
   ]
  }
 ],
 "metadata": {
  "language_info": {
   "name": "python"
  }
 },
 "nbformat": 4,
 "nbformat_minor": 5
}
